{
 "cells": [
  {
   "cell_type": "code",
   "execution_count": 2,
   "id": "94e8a079",
   "metadata": {},
   "outputs": [
    {
     "name": "stdout",
     "output_type": "stream",
     "text": [
      "right side angle triangle pattern\n",
      "* \n",
      "* * \n",
      "* * * \n",
      "* * * * \n",
      "* * * * * \n",
      "* * * * * * \n",
      "* * * * * * * \n",
      "* * * * * * * * \n",
      "* * * * * * * * * \n"
     ]
    }
   ],
   "source": [
    "###a1 : Try to print this by using while loop ###\n",
    "\n",
    "print(\"right side angle triangle pattern\")\n",
    "i = 0\n",
    "while i < 9:\n",
    "    print('* '*(i+1))\n",
    "    i= i+1\n"
   ]
  },
  {
   "cell_type": "code",
   "execution_count": 3,
   "id": "bb4cc716",
   "metadata": {},
   "outputs": [
    {
     "name": "stdout",
     "output_type": "stream",
     "text": [
      "right side angle triangle pattern\n",
      "A \n",
      "B H \n",
      "C I N \n",
      "D J O S \n",
      "E K P T W \n",
      "F L Q U X Z \n",
      "G M R V Y \n"
     ]
    }
   ],
   "source": [
    "###a2 : Try to print this by using while loop ###\n",
    "\n",
    "print(\"right side angle triangle pattern\")\n",
    "n = 7\n",
    "i = 0\n",
    "while i < n:\n",
    "    k = ord(\"A\") +i\n",
    "    count = 6\n",
    "    j = 0\n",
    "    while j < i + 1:\n",
    "        if (k <= 90):\n",
    "            print( chr(k), end= \" \" )\n",
    "        k = k + count\n",
    "        count = count-1\n",
    "        j = j+1\n",
    "    i = i+1\n",
    "\n",
    "    print()\n"
   ]
  },
  {
   "cell_type": "code",
   "execution_count": null,
   "id": "b34e40dc",
   "metadata": {},
   "outputs": [],
   "source": [
    "###a3 : Try to print all the number divisible by 3 in between a range of 40 - 400 by using while loop###\n",
    "\n",
    "print(\"all the number divisible by 3\")\n",
    "i = 40\n",
    "while i <= 400:\n",
    "    if i%3 == 0:\n",
    "        print(i)\n",
    "    i+=1\n",
    "    \n"
   ]
  },
  {
   "cell_type": "code",
   "execution_count": null,
   "id": "565e8cf7",
   "metadata": {},
   "outputs": [],
   "source": [
    "###a3 : Try to print all the number divisible by 3 in between a range of 40 - 400 by using for loop###\n",
    "print(\"all the number divisible by 3\")\n",
    "for i in range(40 , 400,1):\n",
    "    if i%3 == 0:\n",
    "        print(i)"
   ]
  },
  {
   "cell_type": "code",
   "execution_count": null,
   "id": "d85089fa",
   "metadata": {},
   "outputs": [],
   "source": [
    "###a4 : Try to filter out all the vowels form below text by using while loop###\n",
    "\n",
    "str = \"\"\"Python is a high-level, interpreted, general-purpose programming language. Its design philosophy emphasizes code readability with the use of significant indentation.[32]Python is dynamically-typed and garbage-collected. It supports multiple programming paradigms, including structured (particularly procedural), object-oriented and functional programming. It is often described as a \"batteries included\" language due to its comprehensive standard library.[33][34]Guido van Rossum began working on Python in the late 1980s as a successor to the ABC programming language and first released it in 1991 as Python 0.9.0.[35] Python 2.0 was released in 2000 and introduced new features such as list comprehensions, cycle-detecting garbage collection, reference counting, and Unicode support. Python 3.0, released in 2008, was a major revision that is not completely backward-compatible with earlier versions. Python 2 was discontinued with version 2.7.18 in 2020.[36]Python consistently ranks as one of the most popular programming languagesc\"\"\"\n",
    "l = [\"a\",\"e\",\"i\",\"o\",\"u\",\"A\",\"E\",\"I\",\"O\",\"U\"]\n",
    "i = 0\n",
    "while i < len(str):\n",
    "    if l.__contains__(str[i]):\n",
    "        print(str[i])\n",
    "    i+=1"
   ]
  },
  {
   "cell_type": "code",
   "execution_count": null,
   "id": "dcd11628",
   "metadata": {},
   "outputs": [],
   "source": [
    "###a5 : Try to generate all the even number between 1- 1000 by using while loop###\n",
    "\n",
    "while i <= 1000:\n",
    "    if i % 2 == 0:\n",
    "        print(i)\n",
    "    i += 1\n"
   ]
  },
  {
   "cell_type": "code",
   "execution_count": null,
   "id": "fc0d6adc",
   "metadata": {},
   "outputs": [],
   "source": [
    "###a5 : Try to generate all the even number between 1- 1000 by using for loop###\n",
    "\n",
    "for i in range(1 , 1000,1):\n",
    "    if i%2 == 0:\n",
    "        print(i)\n"
   ]
  },
  {
   "cell_type": "code",
   "execution_count": null,
   "id": "f067ce2a",
   "metadata": {},
   "outputs": [],
   "source": [
    "###a6 : Define a function for all the above problem statememnt###\n",
    "\n",
    "def extract_vowels():\n",
    "    str = \"\"\"Python is a high-level, interpreted, general-purpose programming language. Its design philosophy emphasizes code readability with the use of significant indentation.[32]Python is dynamically-typed and garbage-collected. It supports multiple programming paradigms, including structured (particularly procedural), object-oriented and functional programming. It is often described as a \"batteries included\" language due to its comprehensive standard library.[33][34]Guido van Rossum began working on Python in the late 1980s as a successor to the ABC programming language and first released it in 1991 as Python 0.9.0.[35] Python 2.0 was released in 2000 and introduced new features such as list comprehensions, cycle-detecting garbage collection, reference counting, and Unicode support. Python 3.0, released in 2008, was a major revision that is not completely backward-compatible with earlier versions. Python 2 was discontinued with version 2.7.18 in 2020.[36]Python consistently ranks as one of the most popular programming languagesc\"\"\"\n",
    "    l = [\"a\",\"e\",\"i\",\"o\",\"u\",\"A\",\"E\",\"I\",\"O\",\"U\"]\n",
    "    i = 0\n",
    "    while i < len(str):\n",
    "         if l.__contains__(str[i]):\n",
    "             print(str[i])\n",
    "         i+=1\n",
    "\n",
    "\n",
    "extract_vowels()\n",
    "\n",
    "\n",
    "def star_triangle():\n",
    "    i = 0\n",
    "    while i < 9:\n",
    "        print('* '*(i+1))\n",
    "        i= i+1\n",
    "star_triangle()\n",
    "\n",
    "\n",
    "\n",
    "def alpha_triangle():\n",
    "    n = 7\n",
    "    i = 0\n",
    "    while i < n:\n",
    "        k = ord(\"A\") +i\n",
    "        count = 6\n",
    "        j = 0\n",
    "        while j < i + 1:\n",
    "            if (k <= 90):\n",
    "                print( chr(k), end= \" \" )\n",
    "            k = k + count\n",
    "            count = count-1\n",
    "            j = j+1\n",
    "        i = i+1\n",
    "\n",
    "        print()\n",
    "alpha_triangle()\n",
    "\n",
    "\n",
    "def devisible_bythree():\n",
    "    i = 40\n",
    "    while i <= 400:\n",
    "        if i % 3 == 0:\n",
    "            print(i)\n",
    "        i += 1\n",
    "devisible_bythree()\n",
    "\n",
    "\n",
    "def evev_number():\n",
    "    for i in range(1, 1000, 1):\n",
    "        if i % 2 == 0:\n",
    "            print(i)\n",
    "evev_number()\n",
    "\n"
   ]
  },
  {
   "cell_type": "code",
   "execution_count": 5,
   "id": "c07195db",
   "metadata": {},
   "outputs": [
    {
     "name": "stdout",
     "output_type": "stream",
     "text": [
      "\n",
      "System Time is: 23:30:55\n"
     ]
    }
   ],
   "source": [
    "###Q7:7 : write a code to get a time of your system ###\n",
    "\n",
    "from datetime import datetime\n",
    "now = datetime.now()\n",
    "current_time = now.strftime(\"%H:%M:%S\")\n",
    "print(\"\\nSystem Time is:\", current_time)\n"
   ]
  },
  {
   "cell_type": "code",
   "execution_count": 6,
   "id": "1e8b7577",
   "metadata": {},
   "outputs": [
    {
     "name": "stdout",
     "output_type": "stream",
     "text": [
      "\n",
      "System Time is: 06/02/2022\n"
     ]
    }
   ],
   "source": [
    "###A8: Write a code to fetch date form your system ###\n",
    "\n",
    "from datetime import datetime\n",
    "now = datetime.now()\n",
    "current_time = now.strftime(\"%m/%d/%Y\")\n",
    "print(\"\\nSystem Time is:\", current_time)"
   ]
  },
  {
   "cell_type": "code",
   "execution_count": null,
   "id": "728d76d2",
   "metadata": {},
   "outputs": [],
   "source": [
    "###a9 : Write a code to send a mail to your friend###\n",
    "\n",
    "import smtplib, ssl\n",
    "\n",
    "port = 465  # For SSL\n",
    "smtp_server = \"smtp.gmail.com\"\n",
    "sender_email = \"choudhury.rajesh@gmail.com\"  # Enter your address\n",
    "receiver_email = \"choudhury.rajesh@gmail.com\"  # Enter receiver address\n",
    "password = input(\"Type your password and press enter: \")\n",
    "message = \"\"\"\\\n",
    "Subject: Hi there\n",
    "\n",
    "This message is sent from Python.\"\"\"\n",
    "\n",
    "context = ssl.create_default_context()\n",
    "with smtplib.SMTP_SSL(smtp_server, port, context=context) as server:\n",
    "    server.login(sender_email, password)\n",
    "    server.sendmail(sender_email, receiver_email, message)\n"
   ]
  },
  {
   "cell_type": "code",
   "execution_count": null,
   "id": "38428e87",
   "metadata": {},
   "outputs": [],
   "source": [
    "###q10 : write a code to trigger alarm for you at scheduled time ###\n",
    "\n",
    "import datetime\n",
    "import time\n",
    "import winsound\n",
    "\n",
    "\n",
    "def trigger_alarm(set_alarm_time):\n",
    "    while True:\n",
    "        time.sleep(1)\n",
    "        current_time = datetime.datetime.now()\n",
    "        now = current_time.strftime(\"%H:%M:%S\")\n",
    "        date = current_time.strftime(\"%d/%m/%Y\")\n",
    "        print(\"The set timer is:\",set_alarm_time)\n",
    "        print(now)\n",
    "        if now == set_alarm_time:\n",
    "            print(\"Time to wake up zzzzzzzzzzzzzzzz\")\n",
    "            winsound.PlaySound(\"sound.way\",winsound.SND_ASYNC)\n",
    "            break\n",
    "set_alarm_timer = input(\"Enter time to set alarm:\")\n",
    "trigger_alarm(set_alarm_timer)"
   ]
  },
  {
   "cell_type": "code",
   "execution_count": null,
   "id": "de385a3e",
   "metadata": {},
   "outputs": [],
   "source": [
    "###a11 : write a code to check ip address of your system ###\n",
    "\n",
    "import socket\n",
    "hostname = socket.gethostname()\n",
    "IPAddr = socket.gethostbyname(hostname)\n",
    "print(\"Computer IP Address is:\" + IPAddr)"
   ]
  },
  {
   "cell_type": "code",
   "execution_count": null,
   "id": "4ac982e1",
   "metadata": {},
   "outputs": [],
   "source": [
    "###a12 : Write a code to check a perticular installation in your system###\n",
    "\n",
    "import sys\n",
    "if sys.version_info.major == 3:\n",
    "    print('python3')\n",
    "else:\n",
    "    print('python2')"
   ]
  },
  {
   "cell_type": "code",
   "execution_count": null,
   "id": "906cdaf6",
   "metadata": {},
   "outputs": [],
   "source": [
    "###a13 : Write a code to convert any text into voice###\n",
    "\n",
    "import pyttsx3\n",
    "\n",
    "engine = pyttsx3.init()\n",
    "\n",
    "text = \"Python consistently ranks as one of the most popular programming languagesc\"\n",
    "engine.say(text)\n",
    "engine.runAndWait()\n",
    "\n"
   ]
  },
  {
   "cell_type": "code",
   "execution_count": null,
   "id": "d50f9643",
   "metadata": {},
   "outputs": [],
   "source": [
    "###a14 : you have to write a fun which will take string and return a len of it without using a inbuilt fun len###\n",
    "\n",
    "my_string = \"Python is a programming language\"\n",
    "print(\"The string is :\")\n",
    "print(my_string)\n",
    "my_counter=0\n",
    "for i in my_string:\n",
    "   my_counter=my_counter+1\n",
    "print(\"The length of the string is \")\n",
    "print(my_counter)\n"
   ]
  },
  {
   "cell_type": "code",
   "execution_count": null,
   "id": "a67c472f",
   "metadata": {},
   "outputs": [],
   "source": [
    "###a15 :write a fun which will be able to print an index of all premitive element which you will pass###\n",
    "\n",
    "def index_range(lst):\n",
    "    print(\"List : \", lst)\n",
    "    res = []\n",
    "    for x in range (len(lst)):\n",
    "        if lst[x] == 10:\n",
    "            res.append(x)\n",
    "    print(\"Index at which element 10 is present: \" + str(res))\n",
    "\n",
    "lst = [10, 20, 30, 10, 50, 10, 45, 10]\n",
    "index_range(lst)\n"
   ]
  },
  {
   "cell_type": "code",
   "execution_count": null,
   "id": "26065e15",
   "metadata": {},
   "outputs": [],
   "source": [
    "###q16 : Write a fun which will take input as a dict and give me out as a list of all the values even in case of 2 level nesting it should work. ###\n",
    "\n",
    "def dict_value(d1):\n",
    "    d1.values()\n",
    "    print(d1.values())\n",
    "    l1=[]\n",
    "    for i in d1.values():\n",
    "        if type(i) == list:\n",
    "            for j in i:\n",
    "                l1.append(j)\n",
    "        else:\n",
    "            l1.append(i)\n",
    "    print(l1)\n",
    "d1 = {'name': 'Ravi', 'age': 23, 'marks': 56 ,'students' : [12,34,56,78,90]}\n",
    "dict_value(d1)\n"
   ]
  },
  {
   "cell_type": "code",
   "execution_count": null,
   "id": "e90bdae7",
   "metadata": {},
   "outputs": [],
   "source": [
    "###q17 : write a function whihc will take multiple list as a input and give me concatnation of all the element as and output###\n",
    "\n",
    "def multiple_list(list1,list2,list3):\n",
    "    for i in list2:\n",
    "        list1.append(i)\n",
    "    for i in list3:\n",
    "        list1.append(i)\n",
    "    print(list1)\n",
    "\n",
    "list1 = [1,2,3,4,5,6]\n",
    "list2 = [7,8,9,10,12]\n",
    "list3 = [13,14,15,16]\n",
    "multiple_list(list1,list2,list3)"
   ]
  },
  {
   "cell_type": "code",
   "execution_count": null,
   "id": "119346ef",
   "metadata": {},
   "outputs": [],
   "source": []
  }
 ],
 "metadata": {
  "kernelspec": {
   "display_name": "Python 3 (ipykernel)",
   "language": "python",
   "name": "python3"
  },
  "language_info": {
   "codemirror_mode": {
    "name": "ipython",
    "version": 3
   },
   "file_extension": ".py",
   "mimetype": "text/x-python",
   "name": "python",
   "nbconvert_exporter": "python",
   "pygments_lexer": "ipython3",
   "version": "3.9.7"
  }
 },
 "nbformat": 4,
 "nbformat_minor": 5
}
