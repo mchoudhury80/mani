{
 "cells": [
  {
   "cell_type": "code",
   "execution_count": 3,
   "id": "ee02ac86",
   "metadata": {},
   "outputs": [
    {
     "name": "stdout",
     "output_type": "stream",
     "text": [
      "[2, 3, 5, 7, 11, 13, 17, 19, 23, 29, 31, 37, 41, 43, 47, 53, 59, 61, 67, 71, 73, 79, 83, 89, 97, 101, 103, 107, 109, 113, 127, 131, 137, 139, 149, 151, 157, 163, 167, 173, 179, 181, 191, 193, 197, 199, 211, 223, 227, 229, 233, 239, 241, 251, 257, 263, 269, 271, 277, 281, 283, 293, 307, 311, 313, 317, 331, 337, 347, 349, 353, 359, 367, 373, 379, 383, 389, 397, 401, 409, 419, 421, 431, 433, 439, 443, 449, 457, 461, 463, 467, 479, 487, 491, 499, 503, 509, 521, 523, 541, 547, 557, 563, 569, 571, 577, 587, 593, 599, 601, 607, 613, 617, 619, 631, 641, 643, 647, 653, 659, 661, 673, 677, 683, 691, 701, 709, 719, 727, 733, 739, 743, 751, 757, 761, 769, 773, 787, 797, 809, 811, 821, 823, 827, 829, 839, 853, 857, 859, 863, 877, 881, 883, 887, 907, 911, 919, 929, 937, 941, 947, 953, 967, 971, 977, 983, 991, 997]\n"
     ]
    }
   ],
   "source": [
    "###1 : Try to print a prime number in between 1 to 1000###\n",
    "    \n",
    "def isprime(i):\n",
    "    if (i == 1):\n",
    "        return False\n",
    "    if (i == 2):\n",
    "        return True\n",
    "    for j in range(2,i):\n",
    "        if i % j == 0:\n",
    "            return False\n",
    "    return True\n",
    "l=[]\n",
    "#As one is not the prime number, I have not considered it into the range funtion\n",
    "for i in range(1 ,1000):\n",
    "    if isprime(i) == True:\n",
    "        l.append(i)\n",
    "print(l)    "
   ]
  },
  {
   "cell_type": "code",
   "execution_count": 2,
   "id": "b00bb595",
   "metadata": {},
   "outputs": [
    {
     "name": "stdout",
     "output_type": "stream",
     "text": [
      "Python is a complior and interpriter"
     ]
    }
   ],
   "source": [
    "### q2 : Try to write a function which  is equivalent  to print function in python###\n",
    "import sys\n",
    "def print_equivalent(str):\n",
    "    sys.stdout.write(str)\n",
    "print_equivalent(\"Python is a complior and interpriter\")"
   ]
  },
  {
   "cell_type": "code",
   "execution_count": 6,
   "id": "5df76a00",
   "metadata": {},
   "outputs": [
    {
     "name": "stdout",
     "output_type": "stream",
     "text": [
      "[1, 2, 3, 4, 'new element']\n",
      "['e1', 'e2', 'e3', '1', '2']\n",
      "3\n",
      "[1, 2, 3, 4, 4]\n"
     ]
    }
   ],
   "source": [
    "###    q3 : Try to write a function which is a replica of list append , extend and pop function ###\n",
    "def append_element(list3, element):\n",
    "    length = len(list3)\n",
    "    list3.insert(length , element)\n",
    "\n",
    "list1 = [1,2,3,4]\n",
    "append_element(list1 , \"new element\")\n",
    "print(list1)\n",
    "\n",
    "###extend###\n",
    "def extend_element(l1,element):\n",
    "    if type(element) == str:\n",
    "        l1.append(element)\n",
    "    elif type(element) == int:\n",
    "        l1.append(element)\n",
    "    elif type(element) == tuple or type(element) == list or type(element)== set:\n",
    "        for i in element:\n",
    "            l1.append(i)\n",
    "    elif type(element) == dict:\n",
    "        for i in element.keys():\n",
    "            l1.append(i)\n",
    "    return list\n",
    "\n",
    "l2 = [\"e1\" ,\"e2\" , \"e3\"]\n",
    "newlist = [1,2,3,4]\n",
    "dict1 = {\"1\":\"one\" , \"2\":\"two\"}\n",
    "extend_element(l2,dict1)\n",
    "print(l2)\n",
    "###pop##\n",
    "def pop_element(list4,index):\n",
    "   newElement = list4[index]\n",
    "   list4.remove(newElement)\n",
    "   return newElement\n",
    "list5 = [1,2,3, 3 ,4,4]\n",
    "poppad_item = pop_element(list5,2)\n",
    "print(poppad_item)\n",
    "print(list5)\n",
    "\n",
    "\n"
   ]
  },
  {
   "cell_type": "code",
   "execution_count": 1,
   "id": "ea41b8a0",
   "metadata": {},
   "outputs": [
    {
     "name": "stdout",
     "output_type": "stream",
     "text": [
      "i am a real person.\n"
     ]
    }
   ],
   "source": [
    "### q4 : Try to write a lambda function which can return a concatination of all the string that we will pass###\n",
    "concat=lambda *str: \"\".join(str)\n",
    "conccatString=concat(\"i \" , \"am \" ,\"a \" ,\"real \", \"person.\")\n",
    "print(conccatString)"
   ]
  },
  {
   "cell_type": "code",
   "execution_count": 2,
   "id": "5ac6eaba",
   "metadata": {},
   "outputs": [
    {
     "name": "stdout",
     "output_type": "stream",
     "text": [
      "[1, 4, 9, 16, 25, 36, 49, 64, 81, 100, 121, 144, 169, 196, 225, 256, 289, 324, 361, 400, 441, 484, 529, 576, 625, 676, 729, 784, 841, 900, 961, 1024, 1089, 1156, 1225, 1296, 1369, 1444, 1521, 1600, 1681, 1764, 1849, 1936, 2025, 2116, 2209, 2304, 2401, 2500, 2601, 2704, 2809, 2916, 3025, 3136, 3249, 3364, 3481, 3600, 3721, 3844, 3969, 4096, 4225, 4356, 4489, 4624, 4761, 4900, 5041, 5184, 5329, 5476, 5625, 5776, 5929, 6084, 6241, 6400, 6561, 6724, 6889, 7056, 7225, 7396, 7569, 7744, 7921, 8100, 8281, 8464, 8649, 8836, 9025, 9216, 9409, 9604, 9801]\n"
     ]
    }
   ],
   "source": [
    "### q5 : Try to write a lambda function which can return list of square u`yu   of all the data between 1-100### \n",
    "square = lambda : [i*i  for i in range(1 , 100)]\n",
    "square_list = square()\n",
    "print(square_list)\n"
   ]
  },
  {
   "cell_type": "code",
   "execution_count": 9,
   "id": "8df62436",
   "metadata": {},
   "outputs": [
    {
     "name": "stdout",
     "output_type": "stream",
     "text": [
      "343\n",
      "[100, 2, 8, 60, 4, 10]\n"
     ]
    }
   ],
   "source": [
    "###    q6 : Try to write a 10 Different different example of lambda function with a choice of your taks ###\n",
    "g = lambda x: x*x*x\n",
    "print(g(7))\n",
    "###########\n",
    "a = [100, 2, 8, 60, 5, 4, 3, 31, 10, 11]\n",
    " \n",
    "filtered = filter (lambda x: x % 2 == 0, a)\n",
    "print(list(filtered))\n"
   ]
  },
  {
   "cell_type": "code",
   "execution_count": 7,
   "id": "96bde851",
   "metadata": {},
   "outputs": [
    {
     "name": "stdout",
     "output_type": "stream",
     "text": [
      "I am mani.\n"
     ]
    }
   ],
   "source": [
    "###    q7 : Try to wwrite a funtion whihc can perform a read operation from .txt file### \n",
    "f = open(\"c:\\myfiles\\Myfile.txt\")\n",
    "print(f.read())"
   ]
  }
 ],
 "metadata": {
  "kernelspec": {
   "display_name": "Python 3 (ipykernel)",
   "language": "python",
   "name": "python3"
  },
  "language_info": {
   "codemirror_mode": {
    "name": "ipython",
    "version": 3
   },
   "file_extension": ".py",
   "mimetype": "text/x-python",
   "name": "python",
   "nbconvert_exporter": "python",
   "pygments_lexer": "ipython3",
   "version": "3.9.7"
  }
 },
 "nbformat": 4,
 "nbformat_minor": 5
}
