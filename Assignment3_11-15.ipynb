{
 "cells": [
  {
   "cell_type": "code",
   "execution_count": 1,
   "id": "0571cc55",
   "metadata": {},
   "outputs": [
    {
     "name": "stdout",
     "output_type": "stream",
     "text": [
      "{'k1': 'sudh', 'k2': 'ineuron', 'k3': 'kumar', 3: 6, 7: 8}\n",
      "k1\n",
      "k2\n",
      "k3\n",
      "3\n",
      "7\n"
     ]
    }
   ],
   "source": [
    "###Ans 11 Try to find out number of keys in dict element###\n",
    "\n",
    "l = [[1,2,3,4] , (2,3,4,5,6) , (3,4,5,6,7) , set([23,4,5,45,4,4,5,45,45,4,5]) , {'k1' : \"sudh\" , \"k2\" : \"ineuron\" , \"k3\" : \"kumar\" , 3:6 , 7:8} , [\"ineuron\" , \"data science\"]]\n",
    "\n",
    "for i in l:\n",
    "    if type(i) == dict:\n",
    "        print(i)\n",
    "        for k in i.keys():\n",
    "            print(k)"
   ]
  },
  {
   "cell_type": "code",
   "execution_count": 2,
   "id": "75524433",
   "metadata": {},
   "outputs": [
    {
     "name": "stdout",
     "output_type": "stream",
     "text": [
      "['k1', 'sudh', 'k2', 'ineuron', 'k3', 'kumar', 'ineuron', 'data science']\n"
     ]
    }
   ],
   "source": [
    "###Ans 12 Try to filter out all the string data###\n",
    "\n",
    "l = [[1,2,3,4] , (2,3,4,5,6) , (3,4,5,6,7) , set([23,4,5,45,4,4,5,45,45,4,5]) , {'k1' : \"sudh\" , \"k2\" : \"ineuron\" , \"k3\" : \"kumar\" , 3:6 , 7:8} , [\"ineuron\" , \"data science\"]]\n",
    "\n",
    "l1=[]\n",
    "for i in l :\n",
    "    if type (i) == list:\n",
    "        for j in i:\n",
    "            if type(j)==str:\n",
    "                l1.append(j)\n",
    "    if type (i) == tuple:\n",
    "        for j in i:\n",
    "            if type(j)==str:\n",
    "                l1.append(j)\n",
    "    if type (i) == set:\n",
    "        for j in i:\n",
    "            if type(j)==str:\n",
    "                l1.append(j)\n",
    "    if type(i) == dict:\n",
    "        for k ,v in i.items():\n",
    "            if type(k) == str:\n",
    "                l1.append(k)\n",
    "            if type(v) == str:\n",
    "                l1.append(v)\n",
    "\n",
    "print(l1)\n",
    "\n"
   ]
  },
  {
   "cell_type": "code",
   "execution_count": 3,
   "id": "02c3db9d",
   "metadata": {},
   "outputs": [
    {
     "name": "stdout",
     "output_type": "stream",
     "text": [
      "['k1', 'sudh', 'k2', 'ineuron', 'k3', 'kumar', 'ineuron']\n"
     ]
    }
   ],
   "source": [
    "###Ans 13 Try to find out alphanum in data###\n",
    "\n",
    "l = [[1,2,3,4] , (2,3,4,5,6) , (3,4,5,6,7) , set([23,4,5,45,4,4,5,45,45,4,5]) , {'k1' : \"sudh\" , \"k2\" : \"ineuron\" , \"k3\" : \"kumar\" , 3:6 , 7:8} , [\"ineuron\" , \"data science\"]]\n",
    "l1=[]\n",
    "for i in l :\n",
    "    if type (i) == list:\n",
    "        for j in i:\n",
    "             if type(j) == str and j.isalnum():\n",
    "                l1.append(j)\n",
    "    if type (i) == tuple:\n",
    "         for j in i:\n",
    "            if type(j) == str and j.isalnum():\n",
    "                 l1.append(j)\n",
    "    if type (i) == set:\n",
    "         for j in i:\n",
    "            if type(j) == str and j.isalnum():\n",
    "                 l1.append(j)\n",
    "    if type(i) == dict:\n",
    "         for k ,v in i.items():\n",
    "            if type(k) == str and k.isalnum():\n",
    "                 l1.append(k)\n",
    "            if type(v) == str and v.isalnum():\n",
    "                 l1.append(v)\n",
    "\n",
    "print(l1)\n"
   ]
  },
  {
   "cell_type": "code",
   "execution_count": 4,
   "id": "e5af391a",
   "metadata": {},
   "outputs": [
    {
     "name": "stdout",
     "output_type": "stream",
     "text": [
      "[1, 2, 3, 4, 2, 3, 4, 5, 6, 3, 4, 5, 6, 7, 45, 4, 5, 23, 3, 6, 7, 8]\n",
      "mul: 908605071360000\n"
     ]
    }
   ],
   "source": [
    "###a14:Try to find out multiplication of all numaric value in the individual collection inside dataset###\n",
    "\n",
    "l = [[1,2,3,4] , (2,3,4,5,6) , (3,4,5,6,7) , set([23,4,5,45,4,4,5,45,45,4,5]) , {'k1' : \"sudh\" , \"k2\" : \"ineuron\" , \"k3\" : \"kumar\" , 3:6 , 7:8} , [\"ineuron\" , \"data science\"]]\n",
    "l1=[]\n",
    "for i in l :\n",
    "    if type (i) == list:\n",
    "        for j in i:\n",
    "            if type(j)==int:\n",
    "                l1.append(j)\n",
    "    if type (i) == tuple:\n",
    "        for j in i:\n",
    "            if type(j)==int:\n",
    "                l1.append(j)\n",
    "    if type (i) == set:\n",
    "        for j in i:\n",
    "            if type(j)==int:\n",
    "                l1.append(j)\n",
    "    if type(i) == dict:\n",
    "        for k ,v in i.items():\n",
    "            if type(k) == int:\n",
    "                l1.append(k)\n",
    "            if type(v) == int:\n",
    "                l1.append(v)\n",
    "\n",
    "print(l1)\n",
    "mul=1\n",
    "for i in l1:\n",
    "    mul=mul*i\n",
    "\n",
    "print(\"mul:\",mul)\n",
    "\n",
    "\n"
   ]
  },
  {
   "cell_type": "code",
   "execution_count": 5,
   "id": "03fbf342",
   "metadata": {},
   "outputs": [
    {
     "name": "stdout",
     "output_type": "stream",
     "text": [
      "[1, 2, 3, 4, 2, 3, 4, 5, 6, 3, 4, 5, 6, 7, 45, 4, 5, 23, 'k1', 'sudh', 'k2', 'ineuron', 'k3', 'kumar', 3, 6, 7, 8, 'ineuron', 'data science']\n"
     ]
    }
   ],
   "source": [
    "###A15: Try to unwrap all the collection inside collection and creat a flat list###\n",
    "\n",
    "l = [[1,2,3,4] , (2,3,4,5,6) , (3,4,5,6,7) , set([23,4,5,45,4,4,5,45,45,4,5]) , {'k1' : \"sudh\" , \"k2\" : \"ineuron\" , \"k3\" : \"kumar\" , 3:6 , 7:8} , [\"ineuron\" , \"data science\"]]\n",
    "l1=[]\n",
    "for i in l :\n",
    "    if type (i) == list:\n",
    "        for j in i:\n",
    "                l1.append(j)\n",
    "    if type (i) == tuple:\n",
    "        for j in i:\n",
    "                l1.append(j)\n",
    "    if type (i) == set:\n",
    "        for j in i:\n",
    "                l1.append(j)\n",
    "    if type(i) == dict:\n",
    "        for k ,v in i.items():\n",
    "                l1.append(k)\n",
    "                l1.append(v)\n",
    "print(l1)\n",
    "\n"
   ]
  }
 ],
 "metadata": {
  "kernelspec": {
   "display_name": "Python 3 (ipykernel)",
   "language": "python",
   "name": "python3"
  },
  "language_info": {
   "codemirror_mode": {
    "name": "ipython",
    "version": 3
   },
   "file_extension": ".py",
   "mimetype": "text/x-python",
   "name": "python",
   "nbconvert_exporter": "python",
   "pygments_lexer": "ipython3",
   "version": "3.9.7"
  }
 },
 "nbformat": 4,
 "nbformat_minor": 5
}
